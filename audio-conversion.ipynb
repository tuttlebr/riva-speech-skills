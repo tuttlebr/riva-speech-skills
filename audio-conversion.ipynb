{
 "cells": [
  {
   "cell_type": "code",
   "execution_count": 1,
   "id": "9ee4a0ee-b116-4837-a5a1-2d435764d917",
   "metadata": {},
   "outputs": [],
   "source": [
    "import librosa\n",
    "import soundfile as sf"
   ]
  },
  {
   "cell_type": "code",
   "execution_count": 2,
   "id": "f57f8d72-c19e-467c-af60-54577b6cb813",
   "metadata": {},
   "outputs": [
    {
     "name": "stderr",
     "output_type": "stream",
     "text": [
      "/usr/local/lib/python3.8/site-packages/librosa/util/decorators.py:88: UserWarning: PySoundFile failed. Trying audioread instead.\n",
      "  return f(*args, **kwargs)\n"
     ]
    }
   ],
   "source": [
    "input_file_name = \"full-length-nvidia-2Q2022.mp4\"\n",
    "target_sr = 16000\n",
    "output_file_name = \"16k-mono-full-length-nvidia-2Q2022.wav\"\n",
    "\n",
    "print(\"reading {}\".format(input_file_name))\n",
    "y, sr = librosa.load(input_file_name, mono=True)\n",
    "\n",
    "print(\"resampling {} to {}\".format(input_file_name, target_sr))\n",
    "y_16k = librosa.resample(y, orig_sr=sr, target_sr=target_sr)\n",
    "\n",
    "print(\"saving {} as\".format(output_file_name, target_sr))\n",
    "sf.write(output_file_name, y_16k, target_sr)"
   ]
  },
  {
   "cell_type": "code",
   "execution_count": null,
   "id": "f9c74abe-9d15-429a-899c-7be000e9ef9e",
   "metadata": {},
   "outputs": [],
   "source": []
  }
 ],
 "metadata": {
  "kernelspec": {
   "display_name": "Python 3 (ipykernel)",
   "language": "python",
   "name": "python3"
  },
  "language_info": {
   "codemirror_mode": {
    "name": "ipython",
    "version": 3
   },
   "file_extension": ".py",
   "mimetype": "text/x-python",
   "name": "python",
   "nbconvert_exporter": "python",
   "pygments_lexer": "ipython3",
   "version": "3.8.13"
  }
 },
 "nbformat": 4,
 "nbformat_minor": 5
}
